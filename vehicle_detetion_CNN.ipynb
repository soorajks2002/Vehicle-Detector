{
  "nbformat": 4,
  "nbformat_minor": 0,
  "metadata": {
    "colab": {
      "provenance": [],
      "collapsed_sections": []
    },
    "kernelspec": {
      "name": "python3",
      "display_name": "Python 3"
    },
    "language_info": {
      "name": "python"
    },
    "accelerator": "GPU"
  },
  "cells": [
    {
      "cell_type": "code",
      "metadata": {
        "colab": {
          "base_uri": "https://localhost:8080/"
        },
        "id": "8vMJfnoFx96n",
        "outputId": "f4b09b1d-c539-4c9a-f210-8fbbd577b7ad"
      },
      "source": [
        "! nvidia-smi"
      ],
      "execution_count": null,
      "outputs": [
        {
          "output_type": "stream",
          "name": "stdout",
          "text": [
            "Sun Nov 21 09:16:11 2021       \n",
            "+-----------------------------------------------------------------------------+\n",
            "| NVIDIA-SMI 495.44       Driver Version: 460.32.03    CUDA Version: 11.2     |\n",
            "|-------------------------------+----------------------+----------------------+\n",
            "| GPU  Name        Persistence-M| Bus-Id        Disp.A | Volatile Uncorr. ECC |\n",
            "| Fan  Temp  Perf  Pwr:Usage/Cap|         Memory-Usage | GPU-Util  Compute M. |\n",
            "|                               |                      |               MIG M. |\n",
            "|===============================+======================+======================|\n",
            "|   0  Tesla K80           Off  | 00000000:00:04.0 Off |                    0 |\n",
            "| N/A   36C    P8    26W / 149W |      0MiB / 11441MiB |      0%      Default |\n",
            "|                               |                      |                  N/A |\n",
            "+-------------------------------+----------------------+----------------------+\n",
            "                                                                               \n",
            "+-----------------------------------------------------------------------------+\n",
            "| Processes:                                                                  |\n",
            "|  GPU   GI   CI        PID   Type   Process name                  GPU Memory |\n",
            "|        ID   ID                                                   Usage      |\n",
            "|=============================================================================|\n",
            "|  No running processes found                                                 |\n",
            "+-----------------------------------------------------------------------------+\n"
          ]
        }
      ]
    },
    {
      "cell_type": "code",
      "metadata": {
        "id": "ZvMixWkfTcRG"
      },
      "source": [
        "import tensorflow as tf\n",
        "import pandas as pd"
      ],
      "execution_count": null,
      "outputs": []
    },
    {
      "cell_type": "code",
      "metadata": {
        "id": "nWvUWPXjT2Eu"
      },
      "source": [
        "import pickle\n",
        "\n",
        "with open('/content/drive/MyDrive/Veh/vehicles_image_scaled_vector.pkl','rb') as f :\n",
        "  vehicle = pickle.load(f)\n",
        "\n",
        "with open('/content/drive/MyDrive/Veh/non_vehicles_image_scaled_vector.pkl','rb') as f :\n",
        "  non_veh = pickle.load(f)"
      ],
      "execution_count": null,
      "outputs": []
    },
    {
      "cell_type": "code",
      "metadata": {
        "colab": {
          "base_uri": "https://localhost:8080/"
        },
        "id": "i_ayo2QMgDVi",
        "outputId": "8ba9ed9b-0dfc-4521-f64e-79abd1b54ed7"
      },
      "source": [
        "print(len(vehicle))\n",
        "print(len(non_veh))"
      ],
      "execution_count": null,
      "outputs": [
        {
          "output_type": "stream",
          "name": "stdout",
          "text": [
            "8792\n",
            "8968\n"
          ]
        }
      ]
    },
    {
      "cell_type": "code",
      "metadata": {
        "id": "bPBfYeXzgWrz"
      },
      "source": [
        "df = vehicle + non_veh"
      ],
      "execution_count": null,
      "outputs": []
    },
    {
      "cell_type": "code",
      "metadata": {
        "colab": {
          "base_uri": "https://localhost:8080/"
        },
        "id": "PoOT4SxwghfK",
        "outputId": "cc1c9cc3-d849-418e-90af-f5aa1f1149ad"
      },
      "source": [
        "len(df)"
      ],
      "execution_count": null,
      "outputs": [
        {
          "output_type": "execute_result",
          "data": {
            "text/plain": [
              "17760"
            ]
          },
          "metadata": {},
          "execution_count": 6
        }
      ]
    },
    {
      "cell_type": "code",
      "metadata": {
        "id": "UpvzfybdgiC2"
      },
      "source": [
        "y_df = []\n",
        "for i in range(17760) :\n",
        "  if(i<8792):\n",
        "    y_df.append(1)\n",
        "\n",
        "  else :\n",
        "    y_df.append(0)"
      ],
      "execution_count": null,
      "outputs": []
    },
    {
      "cell_type": "code",
      "metadata": {
        "colab": {
          "base_uri": "https://localhost:8080/"
        },
        "id": "qJ7miGX4g9Fb",
        "outputId": "49bc12bf-ecaa-4dda-92f5-aa76f85122ef"
      },
      "source": [
        "print(len(df))\n",
        "print(len(y_df))"
      ],
      "execution_count": null,
      "outputs": [
        {
          "output_type": "stream",
          "name": "stdout",
          "text": [
            "17760\n",
            "17760\n"
          ]
        }
      ]
    },
    {
      "cell_type": "code",
      "metadata": {
        "id": "xQq2EkTflula"
      },
      "source": [
        "import numpy as np"
      ],
      "execution_count": null,
      "outputs": []
    },
    {
      "cell_type": "code",
      "metadata": {
        "id": "uxpI7hZMluaP"
      },
      "source": [
        "x_df = np.array(df)\n",
        "y_df = np.array(y_df)"
      ],
      "execution_count": null,
      "outputs": []
    },
    {
      "cell_type": "code",
      "metadata": {
        "id": "63fYLB2ThBck"
      },
      "source": [
        "from sklearn.model_selection import train_test_split"
      ],
      "execution_count": null,
      "outputs": []
    },
    {
      "cell_type": "code",
      "metadata": {
        "id": "mR4qsdIYhn5x"
      },
      "source": [
        "x,x_t,y,y_t = train_test_split(x_df,y_df,test_size=0.3,random_state=42)"
      ],
      "execution_count": null,
      "outputs": []
    },
    {
      "cell_type": "code",
      "metadata": {
        "id": "teeuXHh_iFBj"
      },
      "source": [
        "neural_network = tf.keras.Sequential([\n",
        "                                      tf.keras.layers.Flatten(),\n",
        "                                      tf.keras.layers.Dense(10000,activation='relu'),\n",
        "                                      tf.keras.layers.Dense(2000,activation='relu'),\n",
        "                                      tf.keras.layers.Dense(500,activation='relu'),\n",
        "                                      tf.keras.layers.Dense(40,activation='relu'),\n",
        "                                      tf.keras.layers.Dense(2,activation='sigmoid')\n",
        "])"
      ],
      "execution_count": null,
      "outputs": []
    },
    {
      "cell_type": "code",
      "metadata": {
        "id": "DNoBaOOdjJVB"
      },
      "source": [
        "neural_network.compile(\n",
        "    optimizer = 'adam',\n",
        "    loss=tf.keras.losses.SparseCategoricalCrossentropy(\n",
        "    from_logits=False, reduction=\"auto\", name=\"sparse_categorical_crossentropy\"),\n",
        "    metrics = ['accuracy']\n",
        ")"
      ],
      "execution_count": null,
      "outputs": []
    },
    {
      "cell_type": "code",
      "metadata": {
        "colab": {
          "base_uri": "https://localhost:8080/"
        },
        "id": "TJpn96rPlOFp",
        "outputId": "00f5be9c-f60e-4fa0-d069-eff8d40fa9af"
      },
      "source": [
        "len(x)"
      ],
      "execution_count": null,
      "outputs": [
        {
          "output_type": "execute_result",
          "data": {
            "text/plain": [
              "12432"
            ]
          },
          "metadata": {},
          "execution_count": 15
        }
      ]
    },
    {
      "cell_type": "code",
      "metadata": {
        "colab": {
          "base_uri": "https://localhost:8080/"
        },
        "id": "KJmcNOCJlBk_",
        "outputId": "b4dd9bcc-942a-43b1-a44b-34f9abed7b61"
      },
      "source": [
        "neural_network.fit(x=x,y=y, epochs=25 , batch_size= 1000)"
      ],
      "execution_count": null,
      "outputs": [
        {
          "output_type": "stream",
          "name": "stdout",
          "text": [
            "Epoch 1/25\n",
            "13/13 [==============================] - 4s 277ms/step - loss: 0.0803 - accuracy: 0.9723\n",
            "Epoch 2/25\n",
            "13/13 [==============================] - 4s 273ms/step - loss: 0.1182 - accuracy: 0.9579\n",
            "Epoch 3/25\n",
            "13/13 [==============================] - 4s 274ms/step - loss: 0.0757 - accuracy: 0.9736\n",
            "Epoch 4/25\n",
            "13/13 [==============================] - 4s 274ms/step - loss: 0.0663 - accuracy: 0.9761\n",
            "Epoch 5/25\n",
            "13/13 [==============================] - 4s 276ms/step - loss: 0.0561 - accuracy: 0.9806\n",
            "Epoch 6/25\n",
            "13/13 [==============================] - 4s 274ms/step - loss: 0.0502 - accuracy: 0.9832\n",
            "Epoch 7/25\n",
            "13/13 [==============================] - 4s 276ms/step - loss: 0.0617 - accuracy: 0.9801\n",
            "Epoch 8/25\n",
            "13/13 [==============================] - 4s 276ms/step - loss: 0.0607 - accuracy: 0.9787\n",
            "Epoch 9/25\n",
            "13/13 [==============================] - 4s 276ms/step - loss: 0.0690 - accuracy: 0.9759\n",
            "Epoch 10/25\n",
            "13/13 [==============================] - 4s 278ms/step - loss: 0.0599 - accuracy: 0.9795\n",
            "Epoch 11/25\n",
            "13/13 [==============================] - 4s 277ms/step - loss: 0.0452 - accuracy: 0.9841\n",
            "Epoch 12/25\n",
            "13/13 [==============================] - 4s 278ms/step - loss: 0.0497 - accuracy: 0.9823\n",
            "Epoch 13/25\n",
            "13/13 [==============================] - 4s 277ms/step - loss: 0.0361 - accuracy: 0.9885\n",
            "Epoch 14/25\n",
            "13/13 [==============================] - 4s 277ms/step - loss: 0.0294 - accuracy: 0.9903\n",
            "Epoch 15/25\n",
            "13/13 [==============================] - 4s 281ms/step - loss: 0.0306 - accuracy: 0.9911\n",
            "Epoch 16/25\n",
            "13/13 [==============================] - 4s 279ms/step - loss: 0.0268 - accuracy: 0.9908\n",
            "Epoch 17/25\n",
            "13/13 [==============================] - 4s 279ms/step - loss: 0.0321 - accuracy: 0.9894\n",
            "Epoch 18/25\n",
            "13/13 [==============================] - 4s 279ms/step - loss: 0.1088 - accuracy: 0.9644\n",
            "Epoch 19/25\n",
            "13/13 [==============================] - 4s 280ms/step - loss: 0.0918 - accuracy: 0.9663\n",
            "Epoch 20/25\n",
            "13/13 [==============================] - 4s 278ms/step - loss: 0.0606 - accuracy: 0.9788\n",
            "Epoch 21/25\n",
            "13/13 [==============================] - 4s 281ms/step - loss: 0.0382 - accuracy: 0.9880\n",
            "Epoch 22/25\n",
            "13/13 [==============================] - 4s 279ms/step - loss: 0.0277 - accuracy: 0.9914\n",
            "Epoch 23/25\n",
            "13/13 [==============================] - 4s 278ms/step - loss: 0.0259 - accuracy: 0.9919\n",
            "Epoch 24/25\n",
            "13/13 [==============================] - 4s 279ms/step - loss: 0.0198 - accuracy: 0.9944\n",
            "Epoch 25/25\n",
            "13/13 [==============================] - 4s 281ms/step - loss: 0.0193 - accuracy: 0.9947\n"
          ]
        },
        {
          "output_type": "execute_result",
          "data": {
            "text/plain": [
              "<keras.callbacks.History at 0x7ff072bb6bd0>"
            ]
          },
          "metadata": {},
          "execution_count": 21
        }
      ]
    },
    {
      "cell_type": "code",
      "metadata": {
        "id": "IGwszKALxH4G"
      },
      "source": [
        "import pickle"
      ],
      "execution_count": null,
      "outputs": []
    },
    {
      "cell_type": "code",
      "metadata": {
        "colab": {
          "base_uri": "https://localhost:8080/"
        },
        "id": "SoXX4OjRloBz",
        "outputId": "17a37b8a-2b9c-451f-f8a6-1da5296bfa77"
      },
      "source": [
        "with open('/content/drive/MyDrive/Veh/neural_network_1_vehicles.pkl', 'wb') as f:\n",
        "    pickle.dump(neural_network, f)"
      ],
      "execution_count": null,
      "outputs": [
        {
          "output_type": "stream",
          "name": "stdout",
          "text": [
            "INFO:tensorflow:Assets written to: ram://55d3cc81-1c84-4844-b46d-ba7de23af3f9/assets\n"
          ]
        }
      ]
    },
    {
      "cell_type": "code",
      "metadata": {
        "colab": {
          "base_uri": "https://localhost:8080/"
        },
        "id": "Efpwmrwdw8nU",
        "outputId": "02112c56-cd1d-43b5-f67e-aa37e8bd064b"
      },
      "source": [
        "neural_network.evaluate(x=x_t,y=y_t,batch_size=100)"
      ],
      "execution_count": null,
      "outputs": [
        {
          "output_type": "stream",
          "name": "stdout",
          "text": [
            "54/54 [==============================] - 2s 31ms/step - loss: 0.1019 - accuracy: 0.9747\n"
          ]
        },
        {
          "output_type": "execute_result",
          "data": {
            "text/plain": [
              "[0.1018579751253128, 0.974662184715271]"
            ]
          },
          "metadata": {},
          "execution_count": 22
        }
      ]
    },
    {
      "cell_type": "code",
      "metadata": {
        "id": "-1JD0FbIyu_v"
      },
      "source": [],
      "execution_count": null,
      "outputs": []
    }
  ]
}