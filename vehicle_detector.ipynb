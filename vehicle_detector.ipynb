{
  "nbformat": 4,
  "nbformat_minor": 0,
  "metadata": {
    "accelerator": "GPU",
    "colab": {
      "provenance": [],
      "collapsed_sections": []
    },
    "kernelspec": {
      "display_name": "Python 3",
      "name": "python3"
    },
    "language_info": {
      "name": "python"
    }
  },
  "cells": [
    {
      "cell_type": "code",
      "metadata": {
        "id": "mN_bF2ExG7xd"
      },
      "source": [
        "import pickle"
      ],
      "execution_count": null,
      "outputs": []
    },
    {
      "cell_type": "code",
      "metadata": {
        "id": "xpxJU0xjHDEL"
      },
      "source": [
        "with open('/content/drive/MyDrive/Veh/vehicles_image_scaled_vector.pkl','rb') as f :\n",
        "  vehicle = pickle.load(f)\n",
        "\n",
        "with open('/content/drive/MyDrive/Veh/non_vehicles_image_scaled_vector.pkl','rb') as f :\n",
        "  non_veh = pickle.load(f)"
      ],
      "execution_count": null,
      "outputs": []
    },
    {
      "cell_type": "code",
      "metadata": {
        "id": "3mhdpKY1HWP3"
      },
      "source": [
        "df = vehicle + non_veh"
      ],
      "execution_count": null,
      "outputs": []
    },
    {
      "cell_type": "code",
      "metadata": {
        "id": "50X443PrHZVv"
      },
      "source": [
        "y_df = []\n",
        "for i in range(17760) :\n",
        "  if(i<8792):\n",
        "    y_df.append(1)\n",
        "\n",
        "  else :\n",
        "    y_df.append(0)"
      ],
      "execution_count": null,
      "outputs": []
    },
    {
      "cell_type": "code",
      "metadata": {
        "id": "aZZ_6QiVHbQu"
      },
      "source": [
        "import numpy as np"
      ],
      "execution_count": null,
      "outputs": []
    },
    {
      "cell_type": "code",
      "metadata": {
        "id": "tg6CTRfAHlZC"
      },
      "source": [
        "x_df = np.array(df)\n",
        "y_df = np.array(y_df)"
      ],
      "execution_count": null,
      "outputs": []
    },
    {
      "cell_type": "code",
      "metadata": {
        "colab": {
          "base_uri": "https://localhost:8080/"
        },
        "id": "MeN9eKJgMG5W",
        "outputId": "aa5c5241-cfd8-45c7-f002-91d65a4d251b"
      },
      "source": [
        "x_df.shape"
      ],
      "execution_count": null,
      "outputs": [
        {
          "output_type": "execute_result",
          "data": {
            "text/plain": [
              "(17760, 64, 64, 3)"
            ]
          },
          "metadata": {},
          "execution_count": 28
        }
      ]
    },
    {
      "cell_type": "code",
      "metadata": {
        "colab": {
          "base_uri": "https://localhost:8080/"
        },
        "id": "yFjrlJRSJ7Lt",
        "outputId": "8586af09-a4ff-43a1-9e58-dcf245cfee98"
      },
      "source": [
        "x_df[0].shape"
      ],
      "execution_count": null,
      "outputs": [
        {
          "output_type": "execute_result",
          "data": {
            "text/plain": [
              "(64, 64, 3)"
            ]
          },
          "metadata": {},
          "execution_count": 29
        }
      ]
    },
    {
      "cell_type": "code",
      "metadata": {
        "id": "eznJfmIvHqjP"
      },
      "source": [
        "from sklearn.model_selection import train_test_split"
      ],
      "execution_count": null,
      "outputs": []
    },
    {
      "cell_type": "code",
      "metadata": {
        "id": "n1hZOq-7HuYu"
      },
      "source": [
        "x,x_t,y,y_t = train_test_split(x_df,y_df,test_size=0.3,random_state=42)"
      ],
      "execution_count": null,
      "outputs": []
    },
    {
      "cell_type": "code",
      "metadata": {
        "colab": {
          "base_uri": "https://localhost:8080/"
        },
        "id": "TorE_Nn3I6Qa",
        "outputId": "0811e08b-4746-49a7-e187-b68fb9c330ee"
      },
      "source": [
        "x.shape"
      ],
      "execution_count": null,
      "outputs": [
        {
          "output_type": "execute_result",
          "data": {
            "text/plain": [
              "(12432, 64, 64, 3)"
            ]
          },
          "metadata": {},
          "execution_count": 32
        }
      ]
    },
    {
      "cell_type": "code",
      "metadata": {
        "id": "EhIrdRDlIOyL"
      },
      "source": [
        "import tensorflow as tf"
      ],
      "execution_count": null,
      "outputs": []
    },
    {
      "cell_type": "code",
      "metadata": {
        "id": "3khTDvYaHwpT"
      },
      "source": [
        "neural_network = tf.keras.Sequential([\n",
        "                                      tf.keras.layers.Conv2D(32, (3, 3), activation='relu'),\n",
        "                                      tf.keras.layers.Conv2D(12, (3, 3), activation='relu'),\n",
        "\n",
        "                                      tf.keras.layers.Flatten(),\n",
        "\n",
        "                                      tf.keras.layers.Dense(30,activation='relu'),\n",
        "                                      tf.keras.layers.Dense(2,activation='sigmoid')\n",
        "])"
      ],
      "execution_count": null,
      "outputs": []
    },
    {
      "cell_type": "code",
      "metadata": {
        "id": "FpUN1OQRIMN8"
      },
      "source": [
        "neural_network.compile(\n",
        "    optimizer = 'adam',\n",
        "    loss=tf.keras.losses.SparseCategoricalCrossentropy(\n",
        "    from_logits=False, reduction=\"auto\", name=\"sparse_categorical_crossentropy\"),\n",
        "    metrics = ['accuracy']\n",
        ")"
      ],
      "execution_count": null,
      "outputs": []
    },
    {
      "cell_type": "code",
      "metadata": {
        "colab": {
          "base_uri": "https://localhost:8080/"
        },
        "id": "LFLjGQ3iIW00",
        "outputId": "8f0f8921-5802-4eed-83c5-cac02e5ca241"
      },
      "source": [
        "\n",
        "neural_network.fit(\n",
        "    x = x,\n",
        "    y = y,\n",
        "    epochs = 10,\n",
        "    batch_size = 300\n",
        ")"
      ],
      "execution_count": null,
      "outputs": [
        {
          "output_type": "stream",
          "name": "stdout",
          "text": [
            "Epoch 1/10\n",
            "42/42 [==============================] - 78s 2s/step - loss: 0.4225 - accuracy: 0.7935\n",
            "Epoch 2/10\n",
            "42/42 [==============================] - 78s 2s/step - loss: 0.1316 - accuracy: 0.9527\n",
            "Epoch 3/10\n",
            "42/42 [==============================] - 77s 2s/step - loss: 0.0883 - accuracy: 0.9690\n",
            "Epoch 4/10\n",
            "42/42 [==============================] - 77s 2s/step - loss: 0.0585 - accuracy: 0.9815\n",
            "Epoch 5/10\n",
            "42/42 [==============================] - 77s 2s/step - loss: 0.0745 - accuracy: 0.9723\n",
            "Epoch 6/10\n",
            "42/42 [==============================] - 77s 2s/step - loss: 0.0543 - accuracy: 0.9819\n",
            "Epoch 7/10\n",
            "42/42 [==============================] - 77s 2s/step - loss: 0.0347 - accuracy: 0.9891\n",
            "Epoch 8/10\n",
            "42/42 [==============================] - 77s 2s/step - loss: 0.0333 - accuracy: 0.9907\n",
            "Epoch 9/10\n",
            "42/42 [==============================] - 77s 2s/step - loss: 0.0273 - accuracy: 0.9912\n",
            "Epoch 10/10\n",
            "42/42 [==============================] - 80s 2s/step - loss: 0.0199 - accuracy: 0.9947\n"
          ]
        },
        {
          "output_type": "execute_result",
          "data": {
            "text/plain": [
              "<keras.callbacks.History at 0x7ff6a123da10>"
            ]
          },
          "metadata": {},
          "execution_count": 52
        }
      ]
    },
    {
      "cell_type": "code",
      "metadata": {
        "colab": {
          "base_uri": "https://localhost:8080/"
        },
        "id": "zhMiq6cZrnqU",
        "outputId": "de9a6275-1116-4652-fd9b-9d3f6173d302"
      },
      "source": [
        "neural_network.evaluate(\n",
        "    x = x_t,\n",
        "    y = y_t\n",
        ")"
      ],
      "execution_count": null,
      "outputs": [
        {
          "output_type": "stream",
          "name": "stdout",
          "text": [
            "167/167 [==============================] - 8s 50ms/step - loss: 0.0521 - accuracy: 0.9839\n"
          ]
        },
        {
          "output_type": "execute_result",
          "data": {
            "text/plain": [
              "[0.052133601158857346, 0.9838588833808899]"
            ]
          },
          "metadata": {},
          "execution_count": 54
        }
      ]
    },
    {
      "cell_type": "code",
      "metadata": {
        "colab": {
          "base_uri": "https://localhost:8080/"
        },
        "id": "KYSyjgqlwR8c",
        "outputId": "eea9d7cc-f563-44bf-e163-e3fee0ce730f"
      },
      "source": [
        "with open('/content/drive/MyDrive/Veh/neural_network_cnn_vehicles.pkl','wb') as f :\n",
        "  pickle.dump(neural_network,f)"
      ],
      "execution_count": null,
      "outputs": [
        {
          "output_type": "stream",
          "name": "stdout",
          "text": [
            "INFO:tensorflow:Assets written to: ram://3ff35340-c03b-4440-9e1c-8b4237d50a98/assets\n"
          ]
        }
      ]
    },
    {
      "cell_type": "markdown",
      "metadata": {
        "id": "wbDUN5V9wI8N"
      },
      "source": [
        "## **New Input**"
      ]
    },
    {
      "cell_type": "code",
      "metadata": {
        "id": "M9wEozE9w-JV"
      },
      "source": [
        "import os"
      ],
      "execution_count": null,
      "outputs": []
    },
    {
      "cell_type": "code",
      "metadata": {
        "id": "P6AJfI4VwOUc"
      },
      "source": [
        "path = '/content/drive/MyDrive/Kaggle/veh test'"
      ],
      "execution_count": null,
      "outputs": []
    },
    {
      "cell_type": "code",
      "metadata": {
        "colab": {
          "base_uri": "https://localhost:8080/"
        },
        "id": "k4iib5NiwQnQ",
        "outputId": "1d498bad-2f43-49c2-d053-98b715e2add7"
      },
      "source": [
        "new_images = []\n",
        "\n",
        "for i in os.listdir(path) :\n",
        "  new_images.append(os.path.join(path,i))\n",
        "new_images"
      ],
      "execution_count": null,
      "outputs": [
        {
          "output_type": "execute_result",
          "data": {
            "text/plain": [
              "['/content/drive/MyDrive/Kaggle/veh test/1.jpg',\n",
              " '/content/drive/MyDrive/Kaggle/veh test/2.jpg',\n",
              " '/content/drive/MyDrive/Kaggle/veh test/3.jpg',\n",
              " '/content/drive/MyDrive/Kaggle/veh test/4.jpg',\n",
              " '/content/drive/MyDrive/Kaggle/veh test/5.jpg',\n",
              " '/content/drive/MyDrive/Kaggle/veh test/6.jpg',\n",
              " '/content/drive/MyDrive/Kaggle/veh test/7.jpg',\n",
              " '/content/drive/MyDrive/Kaggle/veh test/8.jpg',\n",
              " '/content/drive/MyDrive/Kaggle/veh test/9.jpg',\n",
              " '/content/drive/MyDrive/Kaggle/veh test/10.jpg',\n",
              " '/content/drive/MyDrive/Kaggle/veh test/11.jpg']"
            ]
          },
          "metadata": {},
          "execution_count": 44
        }
      ]
    },
    {
      "cell_type": "code",
      "metadata": {
        "id": "ZhalYVQDw8a-"
      },
      "source": [
        "from skimage.io import imread"
      ],
      "execution_count": null,
      "outputs": []
    },
    {
      "cell_type": "code",
      "metadata": {
        "colab": {
          "base_uri": "https://localhost:8080/"
        },
        "id": "wD5ySBdzxF9G",
        "outputId": "2c9ac49c-a5e6-454e-e398-ec61beaddf81"
      },
      "source": [
        "for i in new_images :\n",
        "\n",
        "  img = imread(i)\n",
        "\n",
        "  img = img/255\n",
        "\n",
        "  img = np.resize(img,(1,64, 64, 3))\n",
        "\n",
        "  res = np.argmax(neural_network.predict(img))\n",
        "\n",
        "  if res :\n",
        "    print(\"Vehicle\")\n",
        "\n",
        "  else :\n",
        "    print(\"Non - Vehicle\")"
      ],
      "execution_count": null,
      "outputs": [
        {
          "output_type": "stream",
          "name": "stdout",
          "text": [
            "Non - Vehicle\n",
            "Non - Vehicle\n",
            "Vehicle\n",
            "Vehicle\n",
            "Non - Vehicle\n",
            "Vehicle\n",
            "Non - Vehicle\n",
            "Vehicle\n",
            "Non - Vehicle\n",
            "Non - Vehicle\n",
            "Non - Vehicle\n"
          ]
        }
      ]
    }
  ]
}